{
 "cells": [
  {
   "cell_type": "code",
   "execution_count": 1,
   "metadata": {
    "id": "JtILku8nlnu1"
   },
   "outputs": [],
   "source": [
    "import os\n",
    "os.environ[\"CUDA_VISIBLE_DEVICES\"]=\"1\"\n",
    "\n",
    "from PIL import Image\n",
    "# from torchinfo import summary\n",
    "import torch\n",
    "import os\n",
    "import warnings\n",
    "warnings.filterwarnings(\"ignore\")\n",
    "from typing import Tuple\n",
    "\n",
    "from PIL import Image\n",
    "import torch\n",
    "import torch.nn as nn\n",
    "import torch.nn.functional as F\n",
    "import torchvision.transforms as T\n",
    "from torch.utils.data import DataLoader, Dataset\n",
    "from sklearn.model_selection import train_test_split\n",
    "\n",
    "from tqdm import tqdm\n",
    "import matplotlib.pyplot as plt\n",
    "import numpy as np\n",
    "\n",
    "from datasets import load_dataset\n"
   ]
  },
  {
   "cell_type": "code",
   "execution_count": 2,
   "metadata": {},
   "outputs": [
    {
     "name": "stdout",
     "output_type": "stream",
     "text": [
      "Number CUDA Devices: 1\n",
      "Current cuda device:  0  **May not correspond to nvidia-smi ID above, check visibility parameter\n"
     ]
    }
   ],
   "source": [
    "print('Number CUDA Devices:', torch.cuda.device_count())\n",
    "print ('Current cuda device: ', torch.cuda.current_device(), ' **May not correspond to nvidia-smi ID above, check visibility parameter')"
   ]
  },
  {
   "cell_type": "code",
   "execution_count": 3,
   "metadata": {},
   "outputs": [],
   "source": [
    "import wandb\n",
    "# wandb.login(\"1fa58b4e42c64c2531b3abeb43c04f5991be307e\")"
   ]
  },
  {
   "cell_type": "code",
   "execution_count": 11,
   "metadata": {},
   "outputs": [
    {
     "name": "stdout",
     "output_type": "stream",
     "text": [
      "train\r\n"
     ]
    }
   ],
   "source": [
    "# !pwd\n",
    "!ls ../mnt/local/data/kalexu97/large_dataset"
   ]
  },
  {
   "cell_type": "code",
   "execution_count": 2,
   "metadata": {
    "colab": {
     "base_uri": "https://localhost:8080/",
     "height": 81,
     "referenced_widgets": [
      "0503629658c34c3eaff7dd61d9616030",
      "02daf6304ba94fb5a3d8ec1296c59045",
      "8a3c9f0a364440f3b644786a2a33d6d2",
      "d765799a60934f3e9e8ea1777889df98",
      "616b694ba70e4e9fbfba6621e161d7fb",
      "001cbe0c26194a4f95b1b937d4338f2f",
      "e823a0882342400684a076c1b36b0b06",
      "e3d1216ba4e440508828c51a5fb17330",
      "b1f25fb40c1c4bf0bac32dc4eb57c586",
      "ce3c050dffa64e14acd3141d016228d7",
      "b205b2b4edc84034aa7df1b9e68e33d1",
      "3c2c968b8f324fb7befb6b8018c255e3",
      "5b30715435d242bb8360b31fb6f72a1d",
      "5f5cd21c39d44e19868ec40652c751aa",
      "a97b7135cc66434fbd9c875bd9cc59ab",
      "2b7859a2fcac4caeb49fa787b1d1438d",
      "2ad287c7e2a343799a10b1956e7b6ceb",
      "45ef1379d3fa49da8afe4c1d5ce93d15",
      "995dd469ebb5433b9b48562b198af5d1",
      "c94ec247500c4fac8d6ed4e5ff64de05",
      "9500301fd99848649a90b91d3afd4885",
      "eedb44b975d6482298deecd340d68418"
     ]
    },
    "id": "TALElVfOeQrQ",
    "outputId": "5121be26-e516-47ac-88ee-674c1d390725"
   },
   "outputs": [
    {
     "data": {
      "application/vnd.jupyter.widget-view+json": {
       "model_id": "ee7b87232b254c7196ffd1f019731ddf",
       "version_major": 2,
       "version_minor": 0
      },
      "text/plain": [
       "Resolving data files:   0%|          | 0/500 [00:00<?, ?it/s]"
      ]
     },
     "metadata": {},
     "output_type": "display_data"
    },
    {
     "data": {
      "application/vnd.jupyter.widget-view+json": {
       "model_id": "c1749b10a0df4c2ea8b37d4846b70d1f",
       "version_major": 2,
       "version_minor": 0
      },
      "text/plain": [
       "Resolving data files:   0%|          | 0/250 [00:00<?, ?it/s]"
      ]
     },
     "metadata": {},
     "output_type": "display_data"
    },
    {
     "data": {
      "application/vnd.jupyter.widget-view+json": {
       "model_id": "4d90874c3a5f4ccd99437a1eb680cff1",
       "version_major": 2,
       "version_minor": 0
      },
      "text/plain": [
       "Downloading data:   0%|          | 0/500 [00:00<?, ?files/s]"
      ]
     },
     "metadata": {},
     "output_type": "display_data"
    },
    {
     "data": {
      "application/vnd.jupyter.widget-view+json": {
       "model_id": "0734d0612f244f0d8a4a28dc0d2ee529",
       "version_major": 2,
       "version_minor": 0
      },
      "text/plain": [
       "Downloading data:   0%|          | 0/250 [00:00<?, ?files/s]"
      ]
     },
     "metadata": {},
     "output_type": "display_data"
    },
    {
     "data": {
      "application/vnd.jupyter.widget-view+json": {
       "model_id": "25c806102ec8477ca30cf4942e2b24b6",
       "version_major": 2,
       "version_minor": 0
      },
      "text/plain": [
       "Generating train split: 0 examples [00:00, ? examples/s]"
      ]
     },
     "metadata": {},
     "output_type": "display_data"
    },
    {
     "data": {
      "application/vnd.jupyter.widget-view+json": {
       "model_id": "f4597af0bbd249d69608f5c24b579e27",
       "version_major": 2,
       "version_minor": 0
      },
      "text/plain": [
       "Generating test split: 0 examples [00:00, ? examples/s]"
      ]
     },
     "metadata": {},
     "output_type": "display_data"
    }
   ],
   "source": [
    "# dataset_folder_name = '../mnt/local/data/kalexu97/large_dataset'\n",
    "dataset_folder_name = '../mnt/local/data/kalexu97/short_dataset'\n",
    "dataset = load_dataset(\"imagefolder\", data_dir=dataset_folder_name)\n",
    "train_dataset, test_dataset = dataset['train'], dataset['test']\n"
   ]
  },
  {
   "cell_type": "code",
   "execution_count": 3,
   "metadata": {
    "colab": {
     "base_uri": "https://localhost:8080/"
    },
    "id": "L9Oxzm2XlWZG",
    "outputId": "a9e03ae2-51ae-4fe6-9ea4-2c6425a0a8b4"
   },
   "outputs": [
    {
     "data": {
      "text/plain": [
       "DatasetDict({\n",
       "    train: Dataset({\n",
       "        features: ['image', 'label'],\n",
       "        num_rows: 500\n",
       "    })\n",
       "    test: Dataset({\n",
       "        features: ['image', 'label'],\n",
       "        num_rows: 250\n",
       "    })\n",
       "})"
      ]
     },
     "execution_count": 3,
     "metadata": {},
     "output_type": "execute_result"
    }
   ],
   "source": [
    "dataset\n"
   ]
  },
  {
   "cell_type": "code",
   "execution_count": 19,
   "metadata": {},
   "outputs": [
    {
     "data": {
      "text/plain": [
       "Dataset({\n",
       "    features: ['image', 'label'],\n",
       "    num_rows: 7027\n",
       "})"
      ]
     },
     "execution_count": 19,
     "metadata": {},
     "output_type": "execute_result"
    }
   ],
   "source": [
    "test_dataset"
   ]
  },
  {
   "cell_type": "code",
   "execution_count": 4,
   "metadata": {
    "id": "G7_y4jZmme1A"
   },
   "outputs": [],
   "source": [
    "from transformers import ViTImageProcessor\n",
    "\n",
    "model_name_or_path = 'google/vit-base-patch16-224-in21k'\n",
    "processor = ViTImageProcessor.from_pretrained(model_name_or_path)"
   ]
  },
  {
   "cell_type": "code",
   "execution_count": 5,
   "metadata": {
    "id": "mQdJcLcnm68v"
   },
   "outputs": [],
   "source": [
    "from torchvision.transforms import RandomResizedCrop, Compose, Normalize, ToTensor, Resize\n",
    "\n",
    "normalize = Normalize(mean=processor.image_mean, std=processor.image_std)\n",
    "size = (\n",
    "    processor.size[\"shortest_edge\"]\n",
    "    if \"shortest_edge\" in processor.size\n",
    "    else (processor.size[\"height\"], processor.size[\"width\"])\n",
    ")\n",
    "\n",
    "_transforms = Compose([Resize(224), ToTensor(), normalize])\n",
    "\n",
    "def transforms(examples):\n",
    "    examples[\"pixel_values\"] = [_transforms(img.convert(\"RGB\")) for img in examples[\"image\"]]\n",
    "    del examples[\"image\"]\n",
    "\n",
    "    return examples\n",
    "\n",
    "def transform(example_batch):\n",
    "    inputs = processor([x for x in example_batch['image']], return_tensors='pt')\n",
    "\n",
    "    inputs['label'] = example_batch['label']\n",
    "    return inputs"
   ]
  },
  {
   "cell_type": "code",
   "execution_count": 6,
   "metadata": {
    "id": "oDGkI1Hgnv4t"
   },
   "outputs": [],
   "source": [
    "prepared_ds_train = train_dataset.with_transform(transform)\n",
    "prepared_ds_test = test_dataset.with_transform(transform)\n"
   ]
  },
  {
   "cell_type": "code",
   "execution_count": 7,
   "metadata": {
    "id": "TC69YOTqn4o4"
   },
   "outputs": [],
   "source": [
    "def collate_fn(batch):\n",
    "    return {\n",
    "        'pixel_values': torch.stack([x['pixel_values'] for x in batch]),\n",
    "        'labels': torch.tensor([x['label'] for x in batch])\n",
    "    }"
   ]
  },
  {
   "cell_type": "code",
   "execution_count": 15,
   "metadata": {
    "id": "ytiGs20joobr"
   },
   "outputs": [],
   "source": [
    "\n",
    "# !pip install evaluate"
   ]
  },
  {
   "cell_type": "code",
   "execution_count": 8,
   "metadata": {
    "id": "EgeZytM0oKp5"
   },
   "outputs": [],
   "source": [
    "from sklearn.metrics import cohen_kappa_score\n",
    "from sklearn.metrics import f1_score\n",
    "\n",
    "import evaluate\n",
    "\n",
    "accuracy = evaluate.load(\"accuracy\")\n",
    "\n",
    "def compute_metrics(eval_pred):\n",
    "    predictions, labels = eval_pred\n",
    "\n",
    "    # print(predictions)\n",
    "    predictions = np.argmax(predictions, axis=1)\n",
    "    print(predictions)\n",
    "    print(labels)\n",
    "    result_accuracy = accuracy.compute(predictions=predictions, references=labels)\n",
    "\n",
    "    result = {\n",
    "             'accuracy': np.mean([result_accuracy['accuracy']]),\n",
    "             'kappa': np.mean([cohen_kappa_score(labels, predictions)]),\n",
    "             'f1': np.mean([f1_score(labels, predictions, average='weighted')])\n",
    "             }\n",
    "\n",
    "    print(cohen_kappa_score(labels, predictions))\n",
    "    print(result)\n",
    "\n",
    "    return result\n"
   ]
  },
  {
   "cell_type": "code",
   "execution_count": 45,
   "metadata": {},
   "outputs": [
    {
     "data": {
      "text/plain": [
       "0.19814241486068096"
      ]
     },
     "execution_count": 45,
     "metadata": {},
     "output_type": "execute_result"
    }
   ],
   "source": [
    "pred = np.array([0, 1, 0, 0, 0, 0, 0, 0, 0, 0, 0, 0, 0, 0, 0, 0, 0, 0, 0, 0, 0, 0, 0, 0, 0, 0, 0, 0, 0, 0, 0, 0, 0, 0, 0, 0, 0\n",
    " # 0 0 0 0 0 0 0 0 0 0 0 0 0 0 0 0 0 0 0 0 0 0 0 0 0 0 0 0 0 0 0 0 0 0 0 0 0\n",
    " # 0 0 0 0 0 0 0 0 0 0 0 0 0 0 0 0 0 0 0 0 0 0 0 0 0 0\n",
    "                ])\n",
    "trues = np.array([0, 1, 2, 2, 0, 1, 0, 2, 0, 0, 0, 2, 0, 0, 0, 2, 0, 0, 0, 0, 0, 0, 0, 0, 0, 0, 0, 2, 0, 0, 0, 0, 0, 0, 0, 0, 0\n",
    " # 1 0 0 0 0 0 0 0 0 0 0 1 3 0 0 0 0 0 0 2 0 0 0 0 2 1 0 4 0 0 0 0 0 2 0 0 0\n",
    " # 0 0 0 0 0 2 0 0 0 0 0 0 0 2 0 0 1 2 2 2 0 0 0 0 2 2\n",
    "                 ])\n",
    "cohen_kappa_score(trues, pred)\n"
   ]
  },
  {
   "cell_type": "code",
   "execution_count": 9,
   "metadata": {
    "colab": {
     "base_uri": "https://localhost:8080/"
    },
    "id": "f4wse2pcokZo",
    "outputId": "8f6f7eba-9432-4585-bb4b-e6aa4a762199"
   },
   "outputs": [
    {
     "name": "stdout",
     "output_type": "stream",
     "text": [
      "['0', '1', '2', '3', '4']\n"
     ]
    },
    {
     "name": "stderr",
     "output_type": "stream",
     "text": [
      "Some weights of ViTForImageClassification were not initialized from the model checkpoint at google/vit-base-patch16-224-in21k and are newly initialized: ['classifier.bias', 'classifier.weight']\n",
      "You should probably TRAIN this model on a down-stream task to be able to use it for predictions and inference.\n"
     ]
    }
   ],
   "source": [
    "from transformers import ViTForImageClassification\n",
    "\n",
    "labels = train_dataset.features['label'].names\n",
    "print(labels)\n",
    "\n",
    "model = ViTForImageClassification.from_pretrained(\n",
    "    model_name_or_path,\n",
    "    num_labels=len(labels)\n",
    ")"
   ]
  },
  {
   "cell_type": "code",
   "execution_count": 21,
   "metadata": {
    "id": "tDT7mHffvz_O"
   },
   "outputs": [],
   "source": [
    "# !pip install accelerate -U\n"
   ]
  },
  {
   "cell_type": "code",
   "execution_count": 22,
   "metadata": {
    "id": "EFVPG-nvv9J4"
   },
   "outputs": [],
   "source": [
    "# pip install transformers -U"
   ]
  },
  {
   "cell_type": "code",
   "execution_count": 19,
   "metadata": {},
   "outputs": [],
   "source": [
    "# model=model.to('cuda:1')"
   ]
  },
  {
   "cell_type": "code",
   "execution_count": 30,
   "metadata": {},
   "outputs": [],
   "source": [
    "# import os\n",
    "# os.environ[\"CUDA_DEVICE_ORDER\"] = \"PCI_BUS_ID\"\n",
    "# os.environ[\"CUDA_VISIBLE_DEVICES\"]= \"1\"\n",
    "\n",
    "# torch.cuda.set_device(0)"
   ]
  },
  {
   "cell_type": "code",
   "execution_count": 10,
   "metadata": {
    "id": "WSYrUDeZpAj6"
   },
   "outputs": [],
   "source": [
    "from transformers import TrainingArguments\n",
    "\n",
    "training_args = TrainingArguments(\n",
    "    output_dir=\"./vit-base\",\n",
    "    \n",
    "    report_to=\"wandb\",  # enable logging to W&B\n",
    "    run_name=\"vit_with_short_ds\",  # name of the W&B run (optional)\n",
    "    logging_steps=10,  # how often to log to W&B\n",
    "    per_device_train_batch_size=16,\n",
    "    evaluation_strategy=\"steps\",\n",
    "    num_train_epochs=5,\n",
    "    fp16=True,\n",
    "    save_steps=10,\n",
    "    eval_steps=10,\n",
    "    # logging_steps=10,\n",
    "    learning_rate=2e-4,\n",
    "    save_total_limit=2,\n",
    "    remove_unused_columns=False,\n",
    "    push_to_hub=False,\n",
    "    load_best_model_at_end=True,\n",
    ")"
   ]
  },
  {
   "cell_type": "code",
   "execution_count": 12,
   "metadata": {},
   "outputs": [
    {
     "data": {
      "text/plain": [
       "device(type='cuda', index=0)"
      ]
     },
     "execution_count": 12,
     "metadata": {},
     "output_type": "execute_result"
    }
   ],
   "source": [
    "training_args.device"
   ]
  },
  {
   "cell_type": "code",
   "execution_count": 11,
   "metadata": {},
   "outputs": [
    {
     "name": "stdout",
     "output_type": "stream",
     "text": [
      "[128 144 242  11 132 194  12 135  46 240 147 113 212 202 239 195 145  48\n",
      " 222 152   3 205 216   8  19 162 248   4  62 121 219 175 169  54 165  60\n",
      "   0 249  52 237  28  49  41  23 199  29 235 151 170 126 155 217 188  79\n",
      "  55 164  80  33  68  77  94  75 220 227 105 134 114 231 137   2  90  88\n",
      " 133 190 207 172  91 176  73  63 241  43  92 213 161  25  95 223 125 108\n",
      " 140 215 156 236 127  81 122  96 184 187]\n"
     ]
    }
   ],
   "source": [
    "sample_ids = np.random.choice(len(prepared_ds_test), size=100, replace=False)\n",
    "sample_ids_train = np.random.choice(len(prepared_ds_train), size=len(prepared_ds_train), replace=False)\n",
    "print(sample_ids)"
   ]
  },
  {
   "cell_type": "code",
   "execution_count": 12,
   "metadata": {},
   "outputs": [],
   "source": [
    "val_ds = prepared_ds_test.select(sample_ids)\n",
    "train_ds_shiffled = prepared_ds_train.select(sample_ids_train)"
   ]
  },
  {
   "cell_type": "code",
   "execution_count": 13,
   "metadata": {
    "id": "H28cEkXhqwYq"
   },
   "outputs": [],
   "source": [
    "from transformers import Trainer\n",
    "\n",
    "trainer = Trainer(\n",
    "    model=model,\n",
    "    args=training_args,\n",
    "    data_collator=collate_fn,\n",
    "    compute_metrics=compute_metrics,\n",
    "    train_dataset=prepared_ds_train,\n",
    "    eval_dataset=val_ds,\n",
    "    tokenizer=processor,\n",
    ")"
   ]
  },
  {
   "cell_type": "code",
   "execution_count": 14,
   "metadata": {
    "colab": {
     "base_uri": "https://localhost:8080/",
     "height": 197
    },
    "id": "HzZeFonHq7Nb",
    "outputId": "6144f12b-9284-4bbc-cf11-15e3049375a1"
   },
   "outputs": [
    {
     "name": "stderr",
     "output_type": "stream",
     "text": [
      "\u001b[34m\u001b[1mwandb\u001b[0m: Currently logged in as: \u001b[33mkalexu97\u001b[0m (\u001b[33malexu97skoltech\u001b[0m). Use \u001b[1m`wandb login --relogin`\u001b[0m to force relogin\n"
     ]
    },
    {
     "data": {
      "text/html": [
       "Tracking run with wandb version 0.16.6"
      ],
      "text/plain": [
       "<IPython.core.display.HTML object>"
      ]
     },
     "metadata": {},
     "output_type": "display_data"
    },
    {
     "data": {
      "text/html": [
       "Run data is saved locally in <code>/workspace/models/wandb/run-20240507_215645-ahfkpfm0</code>"
      ],
      "text/plain": [
       "<IPython.core.display.HTML object>"
      ]
     },
     "metadata": {},
     "output_type": "display_data"
    },
    {
     "data": {
      "text/html": [
       "Syncing run <strong><a href='https://wandb.ai/alexu97skoltech/huggingface/runs/ahfkpfm0' target=\"_blank\">vit_with_short_ds</a></strong> to <a href='https://wandb.ai/alexu97skoltech/huggingface' target=\"_blank\">Weights & Biases</a> (<a href='https://wandb.me/run' target=\"_blank\">docs</a>)<br/>"
      ],
      "text/plain": [
       "<IPython.core.display.HTML object>"
      ]
     },
     "metadata": {},
     "output_type": "display_data"
    },
    {
     "data": {
      "text/html": [
       " View project at <a href='https://wandb.ai/alexu97skoltech/huggingface' target=\"_blank\">https://wandb.ai/alexu97skoltech/huggingface</a>"
      ],
      "text/plain": [
       "<IPython.core.display.HTML object>"
      ]
     },
     "metadata": {},
     "output_type": "display_data"
    },
    {
     "data": {
      "text/html": [
       " View run at <a href='https://wandb.ai/alexu97skoltech/huggingface/runs/ahfkpfm0' target=\"_blank\">https://wandb.ai/alexu97skoltech/huggingface/runs/ahfkpfm0</a>"
      ],
      "text/plain": [
       "<IPython.core.display.HTML object>"
      ]
     },
     "metadata": {},
     "output_type": "display_data"
    },
    {
     "data": {
      "text/html": [
       "\n",
       "    <div>\n",
       "      \n",
       "      <progress value='160' max='160' style='width:300px; height:20px; vertical-align: middle;'></progress>\n",
       "      [160/160 08:58, Epoch 5/5]\n",
       "    </div>\n",
       "    <table border=\"1\" class=\"dataframe\">\n",
       "  <thead>\n",
       " <tr style=\"text-align: left;\">\n",
       "      <th>Step</th>\n",
       "      <th>Training Loss</th>\n",
       "      <th>Validation Loss</th>\n",
       "      <th>Accuracy</th>\n",
       "      <th>Kappa</th>\n",
       "      <th>F1</th>\n",
       "    </tr>\n",
       "  </thead>\n",
       "  <tbody>\n",
       "    <tr>\n",
       "      <td>10</td>\n",
       "      <td>1.605600</td>\n",
       "      <td>1.611416</td>\n",
       "      <td>0.240000</td>\n",
       "      <td>0.022885</td>\n",
       "      <td>0.137535</td>\n",
       "    </tr>\n",
       "    <tr>\n",
       "      <td>20</td>\n",
       "      <td>1.619900</td>\n",
       "      <td>1.610020</td>\n",
       "      <td>0.200000</td>\n",
       "      <td>0.001373</td>\n",
       "      <td>0.073394</td>\n",
       "    </tr>\n",
       "    <tr>\n",
       "      <td>30</td>\n",
       "      <td>1.593600</td>\n",
       "      <td>1.566982</td>\n",
       "      <td>0.320000</td>\n",
       "      <td>0.149468</td>\n",
       "      <td>0.259019</td>\n",
       "    </tr>\n",
       "    <tr>\n",
       "      <td>40</td>\n",
       "      <td>1.491400</td>\n",
       "      <td>1.505186</td>\n",
       "      <td>0.320000</td>\n",
       "      <td>0.144762</td>\n",
       "      <td>0.249541</td>\n",
       "    </tr>\n",
       "    <tr>\n",
       "      <td>50</td>\n",
       "      <td>1.403300</td>\n",
       "      <td>1.492813</td>\n",
       "      <td>0.250000</td>\n",
       "      <td>0.069017</td>\n",
       "      <td>0.178936</td>\n",
       "    </tr>\n",
       "    <tr>\n",
       "      <td>60</td>\n",
       "      <td>1.408400</td>\n",
       "      <td>1.605083</td>\n",
       "      <td>0.270000</td>\n",
       "      <td>0.067331</td>\n",
       "      <td>0.188072</td>\n",
       "    </tr>\n",
       "    <tr>\n",
       "      <td>70</td>\n",
       "      <td>1.508500</td>\n",
       "      <td>1.502065</td>\n",
       "      <td>0.330000</td>\n",
       "      <td>0.152435</td>\n",
       "      <td>0.259511</td>\n",
       "    </tr>\n",
       "    <tr>\n",
       "      <td>80</td>\n",
       "      <td>1.274900</td>\n",
       "      <td>1.480381</td>\n",
       "      <td>0.340000</td>\n",
       "      <td>0.175000</td>\n",
       "      <td>0.302860</td>\n",
       "    </tr>\n",
       "    <tr>\n",
       "      <td>90</td>\n",
       "      <td>1.235400</td>\n",
       "      <td>1.435618</td>\n",
       "      <td>0.370000</td>\n",
       "      <td>0.204545</td>\n",
       "      <td>0.334100</td>\n",
       "    </tr>\n",
       "    <tr>\n",
       "      <td>100</td>\n",
       "      <td>1.120000</td>\n",
       "      <td>1.414690</td>\n",
       "      <td>0.370000</td>\n",
       "      <td>0.208940</td>\n",
       "      <td>0.354931</td>\n",
       "    </tr>\n",
       "    <tr>\n",
       "      <td>110</td>\n",
       "      <td>0.924100</td>\n",
       "      <td>1.498542</td>\n",
       "      <td>0.330000</td>\n",
       "      <td>0.158186</td>\n",
       "      <td>0.315288</td>\n",
       "    </tr>\n",
       "    <tr>\n",
       "      <td>120</td>\n",
       "      <td>1.021100</td>\n",
       "      <td>1.427207</td>\n",
       "      <td>0.400000</td>\n",
       "      <td>0.248120</td>\n",
       "      <td>0.401480</td>\n",
       "    </tr>\n",
       "    <tr>\n",
       "      <td>130</td>\n",
       "      <td>0.955500</td>\n",
       "      <td>1.428513</td>\n",
       "      <td>0.350000</td>\n",
       "      <td>0.182390</td>\n",
       "      <td>0.325861</td>\n",
       "    </tr>\n",
       "    <tr>\n",
       "      <td>140</td>\n",
       "      <td>0.774400</td>\n",
       "      <td>1.428695</td>\n",
       "      <td>0.390000</td>\n",
       "      <td>0.232897</td>\n",
       "      <td>0.371721</td>\n",
       "    </tr>\n",
       "    <tr>\n",
       "      <td>150</td>\n",
       "      <td>0.666400</td>\n",
       "      <td>1.429009</td>\n",
       "      <td>0.410000</td>\n",
       "      <td>0.259166</td>\n",
       "      <td>0.399946</td>\n",
       "    </tr>\n",
       "    <tr>\n",
       "      <td>160</td>\n",
       "      <td>0.737600</td>\n",
       "      <td>1.439984</td>\n",
       "      <td>0.380000</td>\n",
       "      <td>0.221888</td>\n",
       "      <td>0.369352</td>\n",
       "    </tr>\n",
       "  </tbody>\n",
       "</table><p>"
      ],
      "text/plain": [
       "<IPython.core.display.HTML object>"
      ]
     },
     "metadata": {},
     "output_type": "display_data"
    },
    {
     "name": "stdout",
     "output_type": "stream",
     "text": [
      "[4 4 4 4 4 4 4 3 4 4 4 4 4 4 3 3 4 4 4 4 4 4 3 3 4 3 4 4 4 3 4 4 3 4 4 4 3\n",
      " 4 4 4 3 4 4 4 4 4 3 3 4 3 4 3 4 3 4 4 4 4 4 4 4 4 4 4 3 4 3 4 4 3 4 3 4 4\n",
      " 4 3 4 4 4 3 4 4 4 4 4 4 3 4 3 4 4 3 3 4 4 4 4 3 4 4]\n",
      "[2 2 4 0 2 3 0 2 0 4 2 2 4 4 4 3 2 0 4 3 0 4 4 0 0 3 4 0 1 2 4 3 3 1 3 1 0\n",
      " 4 1 4 0 0 0 0 3 0 4 3 3 2 3 4 3 1 1 3 1 0 1 1 1 1 4 4 2 2 2 4 2 0 1 1 2 3\n",
      " 4 3 1 3 1 1 4 0 1 4 3 0 1 4 2 2 2 4 3 4 2 1 2 1 3 3]\n",
      "0.022885060426845016\n",
      "{'accuracy': 0.24, 'kappa': 0.022885060426845016, 'f1': 0.1375347377857463}\n",
      "[1 1 2 1 1 1 1 1 1 1 1 1 1 1 1 1 1 1 1 1 1 1 1 1 1 1 2 2 1 1 1 1 1 1 1 1 1\n",
      " 1 1 1 1 1 1 1 1 1 1 1 1 1 2 1 1 1 1 2 1 1 1 1 1 1 2 2 1 1 1 1 1 1 1 1 1 1\n",
      " 2 1 1 1 1 1 2 1 1 1 2 1 1 1 1 1 1 2 1 1 1 1 1 1 1 1]\n",
      "[2 2 4 0 2 3 0 2 0 4 2 2 4 4 4 3 2 0 4 3 0 4 4 0 0 3 4 0 1 2 4 3 3 1 3 1 0\n",
      " 4 1 4 0 0 0 0 3 0 4 3 3 2 3 4 3 1 1 3 1 0 1 1 1 1 4 4 2 2 2 4 2 0 1 1 2 3\n",
      " 4 3 1 3 1 1 4 0 1 4 3 0 1 4 2 2 2 4 3 4 2 1 2 1 3 3]\n",
      "0.00137311197103962\n",
      "{'accuracy': 0.2, 'kappa': 0.00137311197103962, 'f1': 0.07339449541284404}\n",
      "[1 2 4 1 1 2 1 1 1 4 1 2 4 2 1 2 1 1 2 2 2 2 1 2 2 1 4 4 1 2 4 2 1 2 1 1 1\n",
      " 2 1 2 1 1 2 1 2 2 2 1 1 1 4 2 2 1 4 4 2 1 1 1 2 2 4 4 1 1 2 2 2 1 2 1 2 2\n",
      " 4 1 1 2 1 1 4 1 1 4 4 2 1 2 1 2 2 2 1 1 1 2 2 1 1 2]\n",
      "[2 2 4 0 2 3 0 2 0 4 2 2 4 4 4 3 2 0 4 3 0 4 4 0 0 3 4 0 1 2 4 3 3 1 3 1 0\n",
      " 4 1 4 0 0 0 0 3 0 4 3 3 2 3 4 3 1 1 3 1 0 1 1 1 1 4 4 2 2 2 4 2 0 1 1 2 3\n",
      " 4 3 1 3 1 1 4 0 1 4 3 0 1 4 2 2 2 4 3 4 2 1 2 1 3 3]\n",
      "0.14946841776110076\n",
      "{'accuracy': 0.32, 'kappa': 0.14946841776110076, 'f1': 0.2590187332738626}\n",
      "[1 2 4 1 1 1 1 1 1 4 1 2 4 2 1 2 1 1 2 4 1 2 4 1 2 1 4 4 1 1 4 2 1 4 2 1 1\n",
      " 2 1 2 1 1 2 1 4 2 1 2 1 1 4 4 4 1 4 4 4 2 1 1 2 2 4 4 1 1 1 2 2 1 2 1 4 2\n",
      " 4 1 1 4 1 1 4 1 1 4 4 2 1 2 1 1 2 4 2 2 2 2 2 1 1 4]\n",
      "[2 2 4 0 2 3 0 2 0 4 2 2 4 4 4 3 2 0 4 3 0 4 4 0 0 3 4 0 1 2 4 3 3 1 3 1 0\n",
      " 4 1 4 0 0 0 0 3 0 4 3 3 2 3 4 3 1 1 3 1 0 1 1 1 1 4 4 2 2 2 4 2 0 1 1 2 3\n",
      " 4 3 1 3 1 1 4 0 1 4 3 0 1 4 2 2 2 4 3 4 2 1 2 1 3 3]\n",
      "0.14476166519934608\n",
      "{'accuracy': 0.32, 'kappa': 0.14476166519934608, 'f1': 0.24954081632653063}\n",
      "[0 3 4 0 0 3 3 0 0 3 2 3 3 3 2 3 0 2 3 3 3 3 3 3 2 0 4 3 0 3 3 2 0 3 3 2 0\n",
      " 3 3 3 0 0 3 0 3 3 3 3 0 0 3 3 3 0 4 4 3 3 0 3 3 3 3 3 3 3 3 3 0 0 3 0 3 3\n",
      " 3 0 0 3 0 0 3 0 0 3 3 3 0 3 0 0 0 3 3 3 3 3 3 0 3 3]\n",
      "[2 2 4 0 2 3 0 2 0 4 2 2 4 4 4 3 2 0 4 3 0 4 4 0 0 3 4 0 1 2 4 3 3 1 3 1 0\n",
      " 4 1 4 0 0 0 0 3 0 4 3 3 2 3 4 3 1 1 3 1 0 1 1 1 1 4 4 2 2 2 4 2 0 1 1 2 3\n",
      " 4 3 1 3 1 1 4 0 1 4 3 0 1 4 2 2 2 4 3 4 2 1 2 1 3 3]\n",
      "0.06901688182720955\n",
      "{'accuracy': 0.25, 'kappa': 0.06901688182720955, 'f1': 0.17893566022752277}\n",
      "[1 4 4 1 1 4 4 4 4 4 4 4 4 4 0 3 0 1 4 4 4 4 4 4 1 0 4 4 4 4 4 2 0 4 4 1 4\n",
      " 4 4 4 4 3 4 4 4 4 0 4 4 0 4 4 4 3 4 4 4 4 0 4 4 4 4 4 3 4 3 4 4 0 3 0 4 4\n",
      " 4 4 1 4 0 0 4 1 1 4 4 4 0 4 0 0 4 4 3 4 4 4 4 0 4 4]\n",
      "[2 2 4 0 2 3 0 2 0 4 2 2 4 4 4 3 2 0 4 3 0 4 4 0 0 3 4 0 1 2 4 3 3 1 3 1 0\n",
      " 4 1 4 0 0 0 0 3 0 4 3 3 2 3 4 3 1 1 3 1 0 1 1 1 1 4 4 2 2 2 4 2 0 1 1 2 3\n",
      " 4 3 1 3 1 1 4 0 1 4 3 0 1 4 2 2 2 4 3 4 2 1 2 1 3 3]\n",
      "0.06733103360163528\n",
      "{'accuracy': 0.27, 'kappa': 0.06733103360163528, 'f1': 0.1880718770373943}\n",
      "[1 4 4 1 1 0 1 0 1 4 1 0 4 4 0 4 1 1 4 4 0 4 4 1 4 0 4 4 0 2 4 0 4 4 4 0 0\n",
      " 4 1 4 0 1 4 0 4 4 0 4 1 1 4 4 4 0 4 4 4 1 0 0 4 4 4 4 3 4 4 4 4 1 1 1 4 4\n",
      " 4 0 0 4 1 0 4 0 1 4 4 4 0 4 1 0 0 4 3 4 4 0 0 0 0 4]\n",
      "[2 2 4 0 2 3 0 2 0 4 2 2 4 4 4 3 2 0 4 3 0 4 4 0 0 3 4 0 1 2 4 3 3 1 3 1 0\n",
      " 4 1 4 0 0 0 0 3 0 4 3 3 2 3 4 3 1 1 3 1 0 1 1 1 1 4 4 2 2 2 4 2 0 1 1 2 3\n",
      " 4 3 1 3 1 1 4 0 1 4 3 0 1 4 2 2 2 4 3 4 2 1 2 1 3 3]\n",
      "0.1524351676154334\n",
      "{'accuracy': 0.33, 'kappa': 0.1524351676154334, 'f1': 0.25951058530510585}\n",
      "[1 4 4 0 0 3 0 0 3 3 1 0 4 4 0 3 0 1 3 4 3 0 3 0 1 0 4 4 0 0 4 3 0 4 3 1 0\n",
      " 4 3 3 0 0 3 3 4 3 0 3 3 0 4 3 3 0 4 4 3 3 0 0 3 2 4 4 3 0 3 4 0 0 1 0 3 4\n",
      " 4 0 0 3 0 0 3 1 1 3 4 3 0 4 0 0 1 4 3 4 3 3 0 0 3 3]\n",
      "[2 2 4 0 2 3 0 2 0 4 2 2 4 4 4 3 2 0 4 3 0 4 4 0 0 3 4 0 1 2 4 3 3 1 3 1 0\n",
      " 4 1 4 0 0 0 0 3 0 4 3 3 2 3 4 3 1 1 3 1 0 1 1 1 1 4 4 2 2 2 4 2 0 1 1 2 3\n",
      " 4 3 1 3 1 1 4 0 1 4 3 0 1 4 2 2 2 4 3 4 2 1 2 1 3 3]\n",
      "0.17500000000000004\n",
      "{'accuracy': 0.34, 'kappa': 0.17500000000000004, 'f1': 0.30285971673089435}\n",
      "[1 4 4 1 1 4 3 3 1 4 1 1 4 4 2 3 1 1 4 4 4 0 4 2 1 1 4 4 1 2 4 2 0 4 4 1 1\n",
      " 4 2 3 0 1 3 2 4 4 1 3 2 1 4 4 3 0 4 4 4 3 0 2 3 2 4 4 3 2 3 4 2 2 1 1 4 4\n",
      " 4 1 2 3 1 1 4 1 2 4 4 2 0 4 1 1 1 4 3 4 3 3 2 1 4 3]\n",
      "[2 2 4 0 2 3 0 2 0 4 2 2 4 4 4 3 2 0 4 3 0 4 4 0 0 3 4 0 1 2 4 3 3 1 3 1 0\n",
      " 4 1 4 0 0 0 0 3 0 4 3 3 2 3 4 3 1 1 3 1 0 1 1 1 1 4 4 2 2 2 4 2 0 1 1 2 3\n",
      " 4 3 1 3 1 1 4 0 1 4 3 0 1 4 2 2 2 4 3 4 2 1 2 1 3 3]\n",
      "0.20454545454545459\n",
      "{'accuracy': 0.37, 'kappa': 0.20454545454545459, 'f1': 0.33410039653296836}\n",
      "[1 4 4 0 1 0 0 0 1 4 1 0 4 4 0 3 0 1 4 4 4 0 3 2 1 1 4 4 0 0 4 2 0 4 3 1 1\n",
      " 4 1 1 0 1 1 0 4 4 0 3 1 1 4 4 3 0 4 4 4 1 0 0 0 0 4 4 3 0 0 4 1 1 1 1 4 4\n",
      " 4 0 1 3 0 0 4 1 1 4 4 2 0 4 1 0 1 4 3 4 3 0 2 0 3 3]\n",
      "[2 2 4 0 2 3 0 2 0 4 2 2 4 4 4 3 2 0 4 3 0 4 4 0 0 3 4 0 1 2 4 3 3 1 3 1 0\n",
      " 4 1 4 0 0 0 0 3 0 4 3 3 2 3 4 3 1 1 3 1 0 1 1 1 1 4 4 2 2 2 4 2 0 1 1 2 3\n",
      " 4 3 1 3 1 1 4 0 1 4 3 0 1 4 2 2 2 4 3 4 2 1 2 1 3 3]\n",
      "0.20894023103967851\n",
      "{'accuracy': 0.37, 'kappa': 0.20894023103967851, 'f1': 0.3549306812869225}\n",
      "[1 4 4 1 1 3 1 0 1 4 1 2 4 4 2 3 1 1 3 4 3 3 3 2 2 1 4 4 1 2 4 2 0 4 3 2 1\n",
      " 4 3 3 0 1 1 1 4 4 1 3 2 1 4 3 3 0 4 4 4 3 0 2 3 4 4 4 3 2 0 4 2 2 1 2 3 4\n",
      " 4 1 2 3 1 1 4 2 2 3 4 2 0 4 1 1 2 3 3 3 3 0 2 0 3 3]\n",
      "[2 2 4 0 2 3 0 2 0 4 2 2 4 4 4 3 2 0 4 3 0 4 4 0 0 3 4 0 1 2 4 3 3 1 3 1 0\n",
      " 4 1 4 0 0 0 0 3 0 4 3 3 2 3 4 3 1 1 3 1 0 1 1 1 1 4 4 2 2 2 4 2 0 1 1 2 3\n",
      " 4 3 1 3 1 1 4 0 1 4 3 0 1 4 2 2 2 4 3 4 2 1 2 1 3 3]\n",
      "0.15818570172132185\n",
      "{'accuracy': 0.33, 'kappa': 0.15818570172132185, 'f1': 0.3152875695732839}\n",
      "[1 2 4 1 1 0 1 0 1 4 1 1 4 4 2 3 1 1 3 4 3 2 3 2 1 1 4 4 1 2 4 2 0 0 3 1 1\n",
      " 4 1 1 0 1 1 0 3 3 0 3 1 1 4 3 3 0 4 4 3 1 0 1 0 1 4 4 2 0 0 3 1 0 1 1 3 4\n",
      " 4 0 1 3 0 0 4 1 1 4 4 1 0 4 1 1 1 4 3 4 3 0 2 0 3 3]\n",
      "[2 2 4 0 2 3 0 2 0 4 2 2 4 4 4 3 2 0 4 3 0 4 4 0 0 3 4 0 1 2 4 3 3 1 3 1 0\n",
      " 4 1 4 0 0 0 0 3 0 4 3 3 2 3 4 3 1 1 3 1 0 1 1 1 1 4 4 2 2 2 4 2 0 1 1 2 3\n",
      " 4 3 1 3 1 1 4 0 1 4 3 0 1 4 2 2 2 4 3 4 2 1 2 1 3 3]\n",
      "0.24812030075187963\n",
      "{'accuracy': 0.4, 'kappa': 0.24812030075187963, 'f1': 0.40148018922596873}\n",
      "[1 2 4 1 1 3 1 3 3 4 1 2 4 4 2 3 1 1 3 4 3 2 4 2 1 1 4 4 1 2 4 2 2 4 3 1 1\n",
      " 4 1 3 2 1 3 1 4 4 0 3 2 1 4 4 3 2 4 4 4 1 0 2 3 2 4 4 3 1 0 4 1 2 1 2 3 4\n",
      " 4 2 2 3 0 1 4 2 2 4 4 2 0 4 1 1 1 4 3 3 3 0 2 2 3 3]\n",
      "[2 2 4 0 2 3 0 2 0 4 2 2 4 4 4 3 2 0 4 3 0 4 4 0 0 3 4 0 1 2 4 3 3 1 3 1 0\n",
      " 4 1 4 0 0 0 0 3 0 4 3 3 2 3 4 3 1 1 3 1 0 1 1 1 1 4 4 2 2 2 4 2 0 1 1 2 3\n",
      " 4 3 1 3 1 1 4 0 1 4 3 0 1 4 2 2 2 4 3 4 2 1 2 1 3 3]\n",
      "0.1823899371069182\n",
      "{'accuracy': 0.35, 'kappa': 0.1823899371069182, 'f1': 0.32586104951958605}\n",
      "[1 2 4 1 1 3 1 3 1 4 1 1 4 4 2 3 1 1 3 4 3 3 4 2 1 1 4 4 1 2 4 2 0 4 3 1 1\n",
      " 4 1 3 0 1 3 0 4 4 0 3 2 1 4 4 3 0 4 4 4 1 0 2 0 2 4 4 3 0 0 4 1 2 1 1 3 4\n",
      " 4 1 1 3 0 1 4 1 2 4 4 2 0 4 1 1 1 4 3 3 3 0 2 1 3 3]\n",
      "[2 2 4 0 2 3 0 2 0 4 2 2 4 4 4 3 2 0 4 3 0 4 4 0 0 3 4 0 1 2 4 3 3 1 3 1 0\n",
      " 4 1 4 0 0 0 0 3 0 4 3 3 2 3 4 3 1 1 3 1 0 1 1 1 1 4 4 2 2 2 4 2 0 1 1 2 3\n",
      " 4 3 1 3 1 1 4 0 1 4 3 0 1 4 2 2 2 4 3 4 2 1 2 1 3 3]\n",
      "0.23289738430583495\n",
      "{'accuracy': 0.39, 'kappa': 0.23289738430583495, 'f1': 0.3717213416383923}\n",
      "[1 2 4 1 1 3 1 3 1 4 1 1 4 4 2 3 1 1 3 3 3 3 3 2 1 1 4 4 1 2 4 2 0 4 3 1 1\n",
      " 4 1 3 0 1 3 0 4 4 0 3 3 1 4 4 3 0 4 4 4 1 0 2 0 2 4 4 3 0 0 4 2 0 1 2 3 4\n",
      " 4 0 2 3 0 1 4 2 2 4 4 2 0 4 1 1 2 4 3 4 3 0 2 0 3 3]\n",
      "[2 2 4 0 2 3 0 2 0 4 2 2 4 4 4 3 2 0 4 3 0 4 4 0 0 3 4 0 1 2 4 3 3 1 3 1 0\n",
      " 4 1 4 0 0 0 0 3 0 4 3 3 2 3 4 3 1 1 3 1 0 1 1 1 1 4 4 2 2 2 4 2 0 1 1 2 3\n",
      " 4 3 1 3 1 1 4 0 1 4 3 0 1 4 2 2 2 4 3 4 2 1 2 1 3 3]\n",
      "0.25916624811652433\n",
      "{'accuracy': 0.41, 'kappa': 0.25916624811652433, 'f1': 0.3999457464582285}\n",
      "[1 2 4 1 1 3 1 3 1 4 1 1 4 4 2 3 1 1 3 3 4 3 3 2 1 1 4 4 0 0 4 2 0 4 3 1 1\n",
      " 4 1 3 0 1 3 0 4 4 0 3 3 1 4 4 3 0 4 4 4 1 0 2 0 2 4 4 3 0 0 4 2 0 1 2 3 4\n",
      " 4 0 2 3 0 0 4 2 2 4 4 2 0 4 1 0 2 4 3 4 3 0 2 0 3 3]\n",
      "[2 2 4 0 2 3 0 2 0 4 2 2 4 4 4 3 2 0 4 3 0 4 4 0 0 3 4 0 1 2 4 3 3 1 3 1 0\n",
      " 4 1 4 0 0 0 0 3 0 4 3 3 2 3 4 3 1 1 3 1 0 1 1 1 1 4 4 2 2 2 4 2 0 1 1 2 3\n",
      " 4 3 1 3 1 1 4 0 1 4 3 0 1 4 2 2 2 4 3 4 2 1 2 1 3 3]\n",
      "0.22188755020080309\n",
      "{'accuracy': 0.38, 'kappa': 0.22188755020080309, 'f1': 0.3693523593523594}\n",
      "***** train metrics *****\n",
      "  epoch                    =         5.0\n",
      "  total_flos               = 180429949GF\n",
      "  train_loss               =      1.2088\n",
      "  train_runtime            =  0:09:09.98\n",
      "  train_samples_per_second =       4.546\n",
      "  train_steps_per_second   =       0.291\n"
     ]
    }
   ],
   "source": [
    "train_results = trainer.train()\n",
    "trainer.save_model()\n",
    "trainer.log_metrics(\"train\", train_results.metrics)\n",
    "trainer.save_metrics(\"train\", train_results.metrics)\n",
    "trainer.save_state()"
   ]
  },
  {
   "cell_type": "code",
   "execution_count": 20,
   "metadata": {
    "colab": {
     "base_uri": "https://localhost:8080/",
     "height": 193
    },
    "id": "1b0XanyKvYco",
    "outputId": "ba715f3f-1acd-40b5-f275-80b6ad64e716"
   },
   "outputs": [
    {
     "data": {
      "text/html": [
       "\n",
       "    <div>\n",
       "      \n",
       "      <progress value='32' max='32' style='width:300px; height:20px; vertical-align: middle;'></progress>\n",
       "      [32/32 02:32]\n",
       "    </div>\n",
       "    "
      ],
      "text/plain": [
       "<IPython.core.display.HTML object>"
      ]
     },
     "metadata": {},
     "output_type": "display_data"
    },
    {
     "name": "stdout",
     "output_type": "stream",
     "text": [
      "***** eval metrics *****\n",
      "  epoch                   =        1.0\n",
      "  eval_accuracy           =       0.32\n",
      "  eval_f1                 =     0.2555\n",
      "  eval_kappa              =       0.15\n",
      "  eval_loss               =     1.5599\n",
      "  eval_runtime            = 0:02:42.49\n",
      "  eval_samples_per_second =      1.538\n",
      "  eval_steps_per_second   =      0.197\n"
     ]
    }
   ],
   "source": [
    "metrics = trainer.evaluate(prepared_ds['test'])\n",
    "trainer.log_metrics(\"eval\", metrics)\n",
    "trainer.save_metrics(\"eval\", metrics)"
   ]
  },
  {
   "cell_type": "code",
   "execution_count": null,
   "metadata": {
    "id": "JCo8lKEDvaI9"
   },
   "outputs": [],
   "source": []
  }
 ],
 "metadata": {
  "accelerator": "GPU",
  "colab": {
   "gpuType": "T4",
   "provenance": []
  },
  "kernelspec": {
   "display_name": "Python 3 (ipykernel)",
   "language": "python",
   "name": "python3"
  },
  "language_info": {
   "codemirror_mode": {
    "name": "ipython",
    "version": 3
   },
   "file_extension": ".py",
   "mimetype": "text/x-python",
   "name": "python",
   "nbconvert_exporter": "python",
   "pygments_lexer": "ipython3",
   "version": "3.9.19"
  },
  "widgets": {
   "application/vnd.jupyter.widget-state+json": {
    "001cbe0c26194a4f95b1b937d4338f2f": {
     "model_module": "@jupyter-widgets/base",
     "model_module_version": "1.2.0",
     "model_name": "LayoutModel",
     "state": {
      "_model_module": "@jupyter-widgets/base",
      "_model_module_version": "1.2.0",
      "_model_name": "LayoutModel",
      "_view_count": null,
      "_view_module": "@jupyter-widgets/base",
      "_view_module_version": "1.2.0",
      "_view_name": "LayoutView",
      "align_content": null,
      "align_items": null,
      "align_self": null,
      "border": null,
      "bottom": null,
      "display": null,
      "flex": null,
      "flex_flow": null,
      "grid_area": null,
      "grid_auto_columns": null,
      "grid_auto_flow": null,
      "grid_auto_rows": null,
      "grid_column": null,
      "grid_gap": null,
      "grid_row": null,
      "grid_template_areas": null,
      "grid_template_columns": null,
      "grid_template_rows": null,
      "height": null,
      "justify_content": null,
      "justify_items": null,
      "left": null,
      "margin": null,
      "max_height": null,
      "max_width": null,
      "min_height": null,
      "min_width": null,
      "object_fit": null,
      "object_position": null,
      "order": null,
      "overflow": null,
      "overflow_x": null,
      "overflow_y": null,
      "padding": null,
      "right": null,
      "top": null,
      "visibility": null,
      "width": null
     }
    },
    "02daf6304ba94fb5a3d8ec1296c59045": {
     "model_module": "@jupyter-widgets/controls",
     "model_module_version": "1.5.0",
     "model_name": "HTMLModel",
     "state": {
      "_dom_classes": [],
      "_model_module": "@jupyter-widgets/controls",
      "_model_module_version": "1.5.0",
      "_model_name": "HTMLModel",
      "_view_count": null,
      "_view_module": "@jupyter-widgets/controls",
      "_view_module_version": "1.5.0",
      "_view_name": "HTMLView",
      "description": "",
      "description_tooltip": null,
      "layout": "IPY_MODEL_001cbe0c26194a4f95b1b937d4338f2f",
      "placeholder": "​",
      "style": "IPY_MODEL_e823a0882342400684a076c1b36b0b06",
      "value": "Resolving data files: 100%"
     }
    },
    "0503629658c34c3eaff7dd61d9616030": {
     "model_module": "@jupyter-widgets/controls",
     "model_module_version": "1.5.0",
     "model_name": "HBoxModel",
     "state": {
      "_dom_classes": [],
      "_model_module": "@jupyter-widgets/controls",
      "_model_module_version": "1.5.0",
      "_model_name": "HBoxModel",
      "_view_count": null,
      "_view_module": "@jupyter-widgets/controls",
      "_view_module_version": "1.5.0",
      "_view_name": "HBoxView",
      "box_style": "",
      "children": [
       "IPY_MODEL_02daf6304ba94fb5a3d8ec1296c59045",
       "IPY_MODEL_8a3c9f0a364440f3b644786a2a33d6d2",
       "IPY_MODEL_d765799a60934f3e9e8ea1777889df98"
      ],
      "layout": "IPY_MODEL_616b694ba70e4e9fbfba6621e161d7fb"
     }
    },
    "2ad287c7e2a343799a10b1956e7b6ceb": {
     "model_module": "@jupyter-widgets/base",
     "model_module_version": "1.2.0",
     "model_name": "LayoutModel",
     "state": {
      "_model_module": "@jupyter-widgets/base",
      "_model_module_version": "1.2.0",
      "_model_name": "LayoutModel",
      "_view_count": null,
      "_view_module": "@jupyter-widgets/base",
      "_view_module_version": "1.2.0",
      "_view_name": "LayoutView",
      "align_content": null,
      "align_items": null,
      "align_self": null,
      "border": null,
      "bottom": null,
      "display": null,
      "flex": null,
      "flex_flow": null,
      "grid_area": null,
      "grid_auto_columns": null,
      "grid_auto_flow": null,
      "grid_auto_rows": null,
      "grid_column": null,
      "grid_gap": null,
      "grid_row": null,
      "grid_template_areas": null,
      "grid_template_columns": null,
      "grid_template_rows": null,
      "height": null,
      "justify_content": null,
      "justify_items": null,
      "left": null,
      "margin": null,
      "max_height": null,
      "max_width": null,
      "min_height": null,
      "min_width": null,
      "object_fit": null,
      "object_position": null,
      "order": null,
      "overflow": null,
      "overflow_x": null,
      "overflow_y": null,
      "padding": null,
      "right": null,
      "top": null,
      "visibility": null,
      "width": null
     }
    },
    "2b7859a2fcac4caeb49fa787b1d1438d": {
     "model_module": "@jupyter-widgets/base",
     "model_module_version": "1.2.0",
     "model_name": "LayoutModel",
     "state": {
      "_model_module": "@jupyter-widgets/base",
      "_model_module_version": "1.2.0",
      "_model_name": "LayoutModel",
      "_view_count": null,
      "_view_module": "@jupyter-widgets/base",
      "_view_module_version": "1.2.0",
      "_view_name": "LayoutView",
      "align_content": null,
      "align_items": null,
      "align_self": null,
      "border": null,
      "bottom": null,
      "display": null,
      "flex": null,
      "flex_flow": null,
      "grid_area": null,
      "grid_auto_columns": null,
      "grid_auto_flow": null,
      "grid_auto_rows": null,
      "grid_column": null,
      "grid_gap": null,
      "grid_row": null,
      "grid_template_areas": null,
      "grid_template_columns": null,
      "grid_template_rows": null,
      "height": null,
      "justify_content": null,
      "justify_items": null,
      "left": null,
      "margin": null,
      "max_height": null,
      "max_width": null,
      "min_height": null,
      "min_width": null,
      "object_fit": null,
      "object_position": null,
      "order": null,
      "overflow": null,
      "overflow_x": null,
      "overflow_y": null,
      "padding": null,
      "right": null,
      "top": null,
      "visibility": null,
      "width": null
     }
    },
    "3c2c968b8f324fb7befb6b8018c255e3": {
     "model_module": "@jupyter-widgets/controls",
     "model_module_version": "1.5.0",
     "model_name": "HBoxModel",
     "state": {
      "_dom_classes": [],
      "_model_module": "@jupyter-widgets/controls",
      "_model_module_version": "1.5.0",
      "_model_name": "HBoxModel",
      "_view_count": null,
      "_view_module": "@jupyter-widgets/controls",
      "_view_module_version": "1.5.0",
      "_view_name": "HBoxView",
      "box_style": "",
      "children": [
       "IPY_MODEL_5b30715435d242bb8360b31fb6f72a1d",
       "IPY_MODEL_5f5cd21c39d44e19868ec40652c751aa",
       "IPY_MODEL_a97b7135cc66434fbd9c875bd9cc59ab"
      ],
      "layout": "IPY_MODEL_2b7859a2fcac4caeb49fa787b1d1438d"
     }
    },
    "45ef1379d3fa49da8afe4c1d5ce93d15": {
     "model_module": "@jupyter-widgets/controls",
     "model_module_version": "1.5.0",
     "model_name": "DescriptionStyleModel",
     "state": {
      "_model_module": "@jupyter-widgets/controls",
      "_model_module_version": "1.5.0",
      "_model_name": "DescriptionStyleModel",
      "_view_count": null,
      "_view_module": "@jupyter-widgets/base",
      "_view_module_version": "1.2.0",
      "_view_name": "StyleView",
      "description_width": ""
     }
    },
    "5b30715435d242bb8360b31fb6f72a1d": {
     "model_module": "@jupyter-widgets/controls",
     "model_module_version": "1.5.0",
     "model_name": "HTMLModel",
     "state": {
      "_dom_classes": [],
      "_model_module": "@jupyter-widgets/controls",
      "_model_module_version": "1.5.0",
      "_model_name": "HTMLModel",
      "_view_count": null,
      "_view_module": "@jupyter-widgets/controls",
      "_view_module_version": "1.5.0",
      "_view_name": "HTMLView",
      "description": "",
      "description_tooltip": null,
      "layout": "IPY_MODEL_2ad287c7e2a343799a10b1956e7b6ceb",
      "placeholder": "​",
      "style": "IPY_MODEL_45ef1379d3fa49da8afe4c1d5ce93d15",
      "value": "Resolving data files: 100%"
     }
    },
    "5f5cd21c39d44e19868ec40652c751aa": {
     "model_module": "@jupyter-widgets/controls",
     "model_module_version": "1.5.0",
     "model_name": "FloatProgressModel",
     "state": {
      "_dom_classes": [],
      "_model_module": "@jupyter-widgets/controls",
      "_model_module_version": "1.5.0",
      "_model_name": "FloatProgressModel",
      "_view_count": null,
      "_view_module": "@jupyter-widgets/controls",
      "_view_module_version": "1.5.0",
      "_view_name": "ProgressView",
      "bar_style": "success",
      "description": "",
      "description_tooltip": null,
      "layout": "IPY_MODEL_995dd469ebb5433b9b48562b198af5d1",
      "max": 250,
      "min": 0,
      "orientation": "horizontal",
      "style": "IPY_MODEL_c94ec247500c4fac8d6ed4e5ff64de05",
      "value": 250
     }
    },
    "616b694ba70e4e9fbfba6621e161d7fb": {
     "model_module": "@jupyter-widgets/base",
     "model_module_version": "1.2.0",
     "model_name": "LayoutModel",
     "state": {
      "_model_module": "@jupyter-widgets/base",
      "_model_module_version": "1.2.0",
      "_model_name": "LayoutModel",
      "_view_count": null,
      "_view_module": "@jupyter-widgets/base",
      "_view_module_version": "1.2.0",
      "_view_name": "LayoutView",
      "align_content": null,
      "align_items": null,
      "align_self": null,
      "border": null,
      "bottom": null,
      "display": null,
      "flex": null,
      "flex_flow": null,
      "grid_area": null,
      "grid_auto_columns": null,
      "grid_auto_flow": null,
      "grid_auto_rows": null,
      "grid_column": null,
      "grid_gap": null,
      "grid_row": null,
      "grid_template_areas": null,
      "grid_template_columns": null,
      "grid_template_rows": null,
      "height": null,
      "justify_content": null,
      "justify_items": null,
      "left": null,
      "margin": null,
      "max_height": null,
      "max_width": null,
      "min_height": null,
      "min_width": null,
      "object_fit": null,
      "object_position": null,
      "order": null,
      "overflow": null,
      "overflow_x": null,
      "overflow_y": null,
      "padding": null,
      "right": null,
      "top": null,
      "visibility": null,
      "width": null
     }
    },
    "8a3c9f0a364440f3b644786a2a33d6d2": {
     "model_module": "@jupyter-widgets/controls",
     "model_module_version": "1.5.0",
     "model_name": "FloatProgressModel",
     "state": {
      "_dom_classes": [],
      "_model_module": "@jupyter-widgets/controls",
      "_model_module_version": "1.5.0",
      "_model_name": "FloatProgressModel",
      "_view_count": null,
      "_view_module": "@jupyter-widgets/controls",
      "_view_module_version": "1.5.0",
      "_view_name": "ProgressView",
      "bar_style": "success",
      "description": "",
      "description_tooltip": null,
      "layout": "IPY_MODEL_e3d1216ba4e440508828c51a5fb17330",
      "max": 500,
      "min": 0,
      "orientation": "horizontal",
      "style": "IPY_MODEL_b1f25fb40c1c4bf0bac32dc4eb57c586",
      "value": 500
     }
    },
    "9500301fd99848649a90b91d3afd4885": {
     "model_module": "@jupyter-widgets/base",
     "model_module_version": "1.2.0",
     "model_name": "LayoutModel",
     "state": {
      "_model_module": "@jupyter-widgets/base",
      "_model_module_version": "1.2.0",
      "_model_name": "LayoutModel",
      "_view_count": null,
      "_view_module": "@jupyter-widgets/base",
      "_view_module_version": "1.2.0",
      "_view_name": "LayoutView",
      "align_content": null,
      "align_items": null,
      "align_self": null,
      "border": null,
      "bottom": null,
      "display": null,
      "flex": null,
      "flex_flow": null,
      "grid_area": null,
      "grid_auto_columns": null,
      "grid_auto_flow": null,
      "grid_auto_rows": null,
      "grid_column": null,
      "grid_gap": null,
      "grid_row": null,
      "grid_template_areas": null,
      "grid_template_columns": null,
      "grid_template_rows": null,
      "height": null,
      "justify_content": null,
      "justify_items": null,
      "left": null,
      "margin": null,
      "max_height": null,
      "max_width": null,
      "min_height": null,
      "min_width": null,
      "object_fit": null,
      "object_position": null,
      "order": null,
      "overflow": null,
      "overflow_x": null,
      "overflow_y": null,
      "padding": null,
      "right": null,
      "top": null,
      "visibility": null,
      "width": null
     }
    },
    "995dd469ebb5433b9b48562b198af5d1": {
     "model_module": "@jupyter-widgets/base",
     "model_module_version": "1.2.0",
     "model_name": "LayoutModel",
     "state": {
      "_model_module": "@jupyter-widgets/base",
      "_model_module_version": "1.2.0",
      "_model_name": "LayoutModel",
      "_view_count": null,
      "_view_module": "@jupyter-widgets/base",
      "_view_module_version": "1.2.0",
      "_view_name": "LayoutView",
      "align_content": null,
      "align_items": null,
      "align_self": null,
      "border": null,
      "bottom": null,
      "display": null,
      "flex": null,
      "flex_flow": null,
      "grid_area": null,
      "grid_auto_columns": null,
      "grid_auto_flow": null,
      "grid_auto_rows": null,
      "grid_column": null,
      "grid_gap": null,
      "grid_row": null,
      "grid_template_areas": null,
      "grid_template_columns": null,
      "grid_template_rows": null,
      "height": null,
      "justify_content": null,
      "justify_items": null,
      "left": null,
      "margin": null,
      "max_height": null,
      "max_width": null,
      "min_height": null,
      "min_width": null,
      "object_fit": null,
      "object_position": null,
      "order": null,
      "overflow": null,
      "overflow_x": null,
      "overflow_y": null,
      "padding": null,
      "right": null,
      "top": null,
      "visibility": null,
      "width": null
     }
    },
    "a97b7135cc66434fbd9c875bd9cc59ab": {
     "model_module": "@jupyter-widgets/controls",
     "model_module_version": "1.5.0",
     "model_name": "HTMLModel",
     "state": {
      "_dom_classes": [],
      "_model_module": "@jupyter-widgets/controls",
      "_model_module_version": "1.5.0",
      "_model_name": "HTMLModel",
      "_view_count": null,
      "_view_module": "@jupyter-widgets/controls",
      "_view_module_version": "1.5.0",
      "_view_name": "HTMLView",
      "description": "",
      "description_tooltip": null,
      "layout": "IPY_MODEL_9500301fd99848649a90b91d3afd4885",
      "placeholder": "​",
      "style": "IPY_MODEL_eedb44b975d6482298deecd340d68418",
      "value": " 250/250 [00:00&lt;00:00, 2833.32it/s]"
     }
    },
    "b1f25fb40c1c4bf0bac32dc4eb57c586": {
     "model_module": "@jupyter-widgets/controls",
     "model_module_version": "1.5.0",
     "model_name": "ProgressStyleModel",
     "state": {
      "_model_module": "@jupyter-widgets/controls",
      "_model_module_version": "1.5.0",
      "_model_name": "ProgressStyleModel",
      "_view_count": null,
      "_view_module": "@jupyter-widgets/base",
      "_view_module_version": "1.2.0",
      "_view_name": "StyleView",
      "bar_color": null,
      "description_width": ""
     }
    },
    "b205b2b4edc84034aa7df1b9e68e33d1": {
     "model_module": "@jupyter-widgets/controls",
     "model_module_version": "1.5.0",
     "model_name": "DescriptionStyleModel",
     "state": {
      "_model_module": "@jupyter-widgets/controls",
      "_model_module_version": "1.5.0",
      "_model_name": "DescriptionStyleModel",
      "_view_count": null,
      "_view_module": "@jupyter-widgets/base",
      "_view_module_version": "1.2.0",
      "_view_name": "StyleView",
      "description_width": ""
     }
    },
    "c94ec247500c4fac8d6ed4e5ff64de05": {
     "model_module": "@jupyter-widgets/controls",
     "model_module_version": "1.5.0",
     "model_name": "ProgressStyleModel",
     "state": {
      "_model_module": "@jupyter-widgets/controls",
      "_model_module_version": "1.5.0",
      "_model_name": "ProgressStyleModel",
      "_view_count": null,
      "_view_module": "@jupyter-widgets/base",
      "_view_module_version": "1.2.0",
      "_view_name": "StyleView",
      "bar_color": null,
      "description_width": ""
     }
    },
    "ce3c050dffa64e14acd3141d016228d7": {
     "model_module": "@jupyter-widgets/base",
     "model_module_version": "1.2.0",
     "model_name": "LayoutModel",
     "state": {
      "_model_module": "@jupyter-widgets/base",
      "_model_module_version": "1.2.0",
      "_model_name": "LayoutModel",
      "_view_count": null,
      "_view_module": "@jupyter-widgets/base",
      "_view_module_version": "1.2.0",
      "_view_name": "LayoutView",
      "align_content": null,
      "align_items": null,
      "align_self": null,
      "border": null,
      "bottom": null,
      "display": null,
      "flex": null,
      "flex_flow": null,
      "grid_area": null,
      "grid_auto_columns": null,
      "grid_auto_flow": null,
      "grid_auto_rows": null,
      "grid_column": null,
      "grid_gap": null,
      "grid_row": null,
      "grid_template_areas": null,
      "grid_template_columns": null,
      "grid_template_rows": null,
      "height": null,
      "justify_content": null,
      "justify_items": null,
      "left": null,
      "margin": null,
      "max_height": null,
      "max_width": null,
      "min_height": null,
      "min_width": null,
      "object_fit": null,
      "object_position": null,
      "order": null,
      "overflow": null,
      "overflow_x": null,
      "overflow_y": null,
      "padding": null,
      "right": null,
      "top": null,
      "visibility": null,
      "width": null
     }
    },
    "d765799a60934f3e9e8ea1777889df98": {
     "model_module": "@jupyter-widgets/controls",
     "model_module_version": "1.5.0",
     "model_name": "HTMLModel",
     "state": {
      "_dom_classes": [],
      "_model_module": "@jupyter-widgets/controls",
      "_model_module_version": "1.5.0",
      "_model_name": "HTMLModel",
      "_view_count": null,
      "_view_module": "@jupyter-widgets/controls",
      "_view_module_version": "1.5.0",
      "_view_name": "HTMLView",
      "description": "",
      "description_tooltip": null,
      "layout": "IPY_MODEL_ce3c050dffa64e14acd3141d016228d7",
      "placeholder": "​",
      "style": "IPY_MODEL_b205b2b4edc84034aa7df1b9e68e33d1",
      "value": " 500/500 [00:00&lt;00:00, 3008.65it/s]"
     }
    },
    "e3d1216ba4e440508828c51a5fb17330": {
     "model_module": "@jupyter-widgets/base",
     "model_module_version": "1.2.0",
     "model_name": "LayoutModel",
     "state": {
      "_model_module": "@jupyter-widgets/base",
      "_model_module_version": "1.2.0",
      "_model_name": "LayoutModel",
      "_view_count": null,
      "_view_module": "@jupyter-widgets/base",
      "_view_module_version": "1.2.0",
      "_view_name": "LayoutView",
      "align_content": null,
      "align_items": null,
      "align_self": null,
      "border": null,
      "bottom": null,
      "display": null,
      "flex": null,
      "flex_flow": null,
      "grid_area": null,
      "grid_auto_columns": null,
      "grid_auto_flow": null,
      "grid_auto_rows": null,
      "grid_column": null,
      "grid_gap": null,
      "grid_row": null,
      "grid_template_areas": null,
      "grid_template_columns": null,
      "grid_template_rows": null,
      "height": null,
      "justify_content": null,
      "justify_items": null,
      "left": null,
      "margin": null,
      "max_height": null,
      "max_width": null,
      "min_height": null,
      "min_width": null,
      "object_fit": null,
      "object_position": null,
      "order": null,
      "overflow": null,
      "overflow_x": null,
      "overflow_y": null,
      "padding": null,
      "right": null,
      "top": null,
      "visibility": null,
      "width": null
     }
    },
    "e823a0882342400684a076c1b36b0b06": {
     "model_module": "@jupyter-widgets/controls",
     "model_module_version": "1.5.0",
     "model_name": "DescriptionStyleModel",
     "state": {
      "_model_module": "@jupyter-widgets/controls",
      "_model_module_version": "1.5.0",
      "_model_name": "DescriptionStyleModel",
      "_view_count": null,
      "_view_module": "@jupyter-widgets/base",
      "_view_module_version": "1.2.0",
      "_view_name": "StyleView",
      "description_width": ""
     }
    },
    "eedb44b975d6482298deecd340d68418": {
     "model_module": "@jupyter-widgets/controls",
     "model_module_version": "1.5.0",
     "model_name": "DescriptionStyleModel",
     "state": {
      "_model_module": "@jupyter-widgets/controls",
      "_model_module_version": "1.5.0",
      "_model_name": "DescriptionStyleModel",
      "_view_count": null,
      "_view_module": "@jupyter-widgets/base",
      "_view_module_version": "1.2.0",
      "_view_name": "StyleView",
      "description_width": ""
     }
    }
   }
  }
 },
 "nbformat": 4,
 "nbformat_minor": 4
}
