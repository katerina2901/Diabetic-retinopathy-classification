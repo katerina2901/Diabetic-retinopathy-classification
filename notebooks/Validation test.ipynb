{
 "cells": [
  {
   "cell_type": "code",
   "execution_count": 1,
   "id": "0fe740bd-d5be-4b90-bffc-a3bc82b93a7a",
   "metadata": {},
   "outputs": [
    {
     "name": "stdout",
     "output_type": "stream",
     "text": [
      "Cloning into 'MedViT'...\n",
      "remote: Enumerating objects: 146, done.\u001b[K\n",
      "remote: Counting objects: 100% (145/145), done.\u001b[K\n",
      "remote: Compressing objects: 100% (80/80), done.\u001b[K\n",
      "remote: Total 146 (delta 70), reused 125 (delta 57), pack-reused 1\u001b[K\n",
      "Receiving objects: 100% (146/146), 804.62 KiB | 3.87 MiB/s, done.\n",
      "Resolving deltas: 100% (70/70), done.\n"
     ]
    }
   ],
   "source": [
    "# Install MedViT\n",
    "!git clone https://github.com/Omid-Nejati/MedViT.git"
   ]
  },
  {
   "cell_type": "code",
   "execution_count": 1,
   "id": "f8fb8848-e455-40a1-a5e9-85eab4fcc4f4",
   "metadata": {},
   "outputs": [],
   "source": [
    "import os\n",
    "# os.environ[\"CUDA_VISIBLE_DEVICES\"]=\"1\"\n",
    "\n",
    "from PIL import Image\n",
    "# from torchinfo import summary\n",
    "import torch\n",
    "import os\n",
    "import warnings\n",
    "warnings.filterwarnings(\"ignore\")\n",
    "from typing import Tuple\n",
    "\n",
    "from PIL import Image\n",
    "import torch\n",
    "import torch.nn as nn\n",
    "# import torch.nn.functional as F\n",
    "import torchvision.transforms as T\n",
    "from torchvision.transforms import functional as F\n",
    "from torch.utils.data import DataLoader, Dataset\n",
    "from sklearn.model_selection import train_test_split\n",
    "\n",
    "from tqdm import tqdm\n",
    "import matplotlib.pyplot as plt\n",
    "import numpy as np\n",
    "\n",
    "from datasets import load_dataset\n",
    "import pandas as pd\n",
    "\n",
    "import random\n",
    "import json\n",
    "\n",
    "import sys\n",
    "sys.path.append('..')\n",
    "\n",
    "# import wandb\n",
    "# wandb.login(\"1fa58b4e42c64c2531b3abeb43c04f5991be307e\")\n",
    "\n",
    "torch.cuda.empty_cache()\n"
   ]
  },
  {
   "cell_type": "code",
   "execution_count": 2,
   "id": "27f174c4-0ad9-4d39-8601-eba691e0c676",
   "metadata": {},
   "outputs": [],
   "source": [
    "labelsTable = pd.read_csv('../DR_grading/DR_grading.csv')\n",
    "root_dir = '../DR_grading/DR_grading'\n",
    "labelsTable['image_path'] = labelsTable['id_code'].apply(lambda x: os.path.join(root_dir, x))\n",
    "labelsTable['label'] = labelsTable['diagnosis']\n",
    "\n",
    "test_dataset = labelsTable.drop(columns=['id_code', 'diagnosis'], axis=1)\n",
    "\n",
    "# test_dataset = pd.read_csv('test_dataset.csv')"
   ]
  },
  {
   "cell_type": "code",
   "execution_count": 3,
   "id": "38dd5604-9351-4955-a9e5-fd6681cb56f1",
   "metadata": {},
   "outputs": [],
   "source": [
    "from datasets import Dataset\n",
    "from transformers import AutoImageProcessor\n",
    "from data_utils import CenterCrop\n",
    "\n",
    "model_name_or_path = \"../saved_models/MedViT512_tr35_stage6(3)_CCropSpot2HTrivAug_fastvitprepr_lr1e5\" \n",
    "\n",
    "image_processor = AutoImageProcessor.from_pretrained(model_name_or_path)\n",
    "image_processor.size['height'] = 512\n",
    "image_processor.size['width'] = 512\n",
    "\n",
    "_transforms_test = T.Compose([\n",
    "    CenterCrop(),\n",
    "])\n",
    "\n",
    "def load_image(path_image, label, mode):\n",
    "    # load image\n",
    "    image = Image.open(path_image)\n",
    "\n",
    "    image = _transforms_test(image)\n",
    "    return image\n",
    "\n",
    "def func_transform_test(examples):\n",
    "    inputs = image_processor([load_image(path, lb, 'test').convert(\"RGB\")\n",
    "                                for path, lb in zip(examples['image_path'], examples['label'])], return_tensors='pt')\n",
    "    inputs['label'] = examples['label']\n",
    "    return inputs\n",
    "\n",
    "test_ds = Dataset.from_pandas(test_dataset, preserve_index=False)\n",
    "prepared_ds_test = test_ds.with_transform(func_transform_test)\n",
    "prepared_ds_test = prepared_ds_test.shuffle(seed=42)"
   ]
  },
  {
   "cell_type": "code",
   "execution_count": 15,
   "id": "727f99f2-6649-47c0-9508-8a2fc9e27bca",
   "metadata": {},
   "outputs": [
    {
     "data": {
      "text/plain": [
       "Dataset({\n",
       "    features: ['image_path', 'label'],\n",
       "    num_rows: 12522\n",
       "})"
      ]
     },
     "execution_count": 15,
     "metadata": {},
     "output_type": "execute_result"
    }
   ],
   "source": [
    "prepared_ds_test "
   ]
  },
  {
   "cell_type": "code",
   "execution_count": 4,
   "id": "ecba950b-b00f-4edb-980b-e70f70123442",
   "metadata": {},
   "outputs": [
    {
     "name": "stdout",
     "output_type": "stream",
     "text": [
      "rows in test_dataset:  12522\n",
      "ID2label:  {0: 0, 1: 1, 2: 2, 3: 3, 4: 4}\n"
     ]
    }
   ],
   "source": [
    "print(\"rows in test_dataset: \", len(prepared_ds_test))\n",
    "\n",
    "labels = [0, 1, 2, 3, 4]\n",
    "label2id, id2label = dict(), dict()\n",
    "\n",
    "for i, label in enumerate(labels):\n",
    "    label2id[label] = i\n",
    "    id2label[i] = label\n",
    "\n",
    "print(\"ID2label: \", id2label)"
   ]
  },
  {
   "cell_type": "code",
   "execution_count": 5,
   "id": "2b0ffd51-fd89-48da-9e66-d520af393c6a",
   "metadata": {},
   "outputs": [],
   "source": [
    "def collate_fn(batch):\n",
    "    return {\n",
    "        'pixel_values': torch.stack([x['pixel_values'] for x in batch]),\n",
    "        'labels': torch.tensor([x['label'] for x in batch])\n",
    "    }"
   ]
  },
  {
   "cell_type": "code",
   "execution_count": 25,
   "id": "e1e3f741-cfbb-47b5-925e-6249fd9325a0",
   "metadata": {},
   "outputs": [],
   "source": [
    "from sklearn.metrics import cohen_kappa_score, confusion_matrix\n",
    "from sklearn.metrics import f1_score #, kappa\n",
    "# from sklearn import metrics\n",
    "\n",
    "import evaluate\n",
    "\n",
    "accuracy = evaluate.load(\"accuracy\")\n",
    "\n",
    "from sklearn.utils.multiclass import unique_labels\n",
    "np.set_printoptions(precision=2)\n",
    "\n",
    "def plot_confusion_matrix(y_true, y_pred, classes=[0, 1, 2, 3, 4],\n",
    "                          normalize=False,\n",
    "                          title=None,\n",
    "                          cmap=plt.cm.Blues):\n",
    "    \"\"\"\n",
    "    This function prints and plots the confusion matrix.\n",
    "    Normalization can be applied by setting `normalize=True`.\n",
    "    \"\"\"\n",
    "    if not title:\n",
    "        if normalize:\n",
    "            title = 'Normalized confusion matrix'\n",
    "        else:\n",
    "            title = 'Confusion matrix, without normalization'\n",
    "\n",
    "    # Compute confusion matrix\n",
    "    cm = confusion_matrix(y_true, y_pred)\n",
    "    # Only use the labels that appear in the data\n",
    "    # classes = classes[unique_labels(y_true, y_pred)]\n",
    "    if normalize:\n",
    "        cm = cm.astype('float') / cm.sum(axis=1)[:, np.newaxis]\n",
    "        print(\"Normalized confusion matrix\")\n",
    "    else:\n",
    "        print('Confusion matrix, without normalization')\n",
    "\n",
    "    # print(cm)\n",
    "\n",
    "    fig, ax = plt.subplots()\n",
    "    im = ax.imshow(cm, interpolation='nearest', cmap=cmap)\n",
    "    ax.figure.colorbar(im, ax=ax)\n",
    "    # We want to show all ticks...\n",
    "    ax.set(xticks=np.arange(cm.shape[1]),\n",
    "           yticks=np.arange(cm.shape[0]),\n",
    "           # ... and label them with the respective list entries\n",
    "           xticklabels=classes, yticklabels=classes,\n",
    "           title=title,\n",
    "           ylabel='True label',\n",
    "           xlabel='Predicted label')\n",
    "\n",
    "    # Rotate the tick labels and set their alignment.\n",
    "    plt.setp(ax.get_xticklabels(), rotation=45, ha=\"right\",\n",
    "             rotation_mode=\"anchor\")\n",
    "\n",
    "    # Loop over data dimensions and create text annotations.\n",
    "    fmt = '.2f' if normalize else 'd'\n",
    "    thresh = cm.max() / 2.\n",
    "    for i in range(cm.shape[0]):\n",
    "        for j in range(cm.shape[1]):\n",
    "            ax.text(j, i, format(cm[i, j], fmt),\n",
    "                    ha=\"center\", va=\"center\",\n",
    "                    color=\"white\" if cm[i, j] > thresh else \"black\")\n",
    "    fig.tight_layout()\n",
    "    plt.savefig('../results/confusion_matrix.png')\n",
    "    plt.show()\n",
    "\n",
    "def compute_metrics(eval_pred):\n",
    "    \n",
    "    predictions_proba, labels = eval_pred\n",
    "\n",
    "    predictions = np.argmax(predictions_proba, axis=1)\n",
    "    result_accuracy = accuracy.compute(predictions=predictions, references=labels)\n",
    "\n",
    "    result = {\n",
    "             'accuracy': np.mean([result_accuracy['accuracy']]),\n",
    "             'kappa': np.mean([cohen_kappa_score(labels, predictions, weights = \"quadratic\")]),\n",
    "             'f1': np.mean([f1_score(labels, predictions, average='weighted')]),\n",
    "             }\n",
    "    \n",
    "    plot_confusion_matrix(labels, predictions, normalize=True,\n",
    "                      title='Normalized confusion matrix')\n",
    "    \n",
    "\n",
    "    return result\n"
   ]
  },
  {
   "cell_type": "code",
   "execution_count": 31,
   "id": "b6c79a46",
   "metadata": {},
   "outputs": [],
   "source": [
    "pretrained_model_name = 'MedViT512_tr35_stage6(3)_CCropSpot2HTrivAug_fastvitprepr_lr1e5'"
   ]
  },
  {
   "cell_type": "code",
   "execution_count": 7,
   "id": "e9901d1e-81a8-4c1b-adbb-2ea8fceb9224",
   "metadata": {},
   "outputs": [
    {
     "name": "stdout",
     "output_type": "stream",
     "text": [
      "Initialized with random weights:\n",
      "initialize_weights...\n"
     ]
    }
   ],
   "source": [
    "# Initialise a MedViT class\n",
    "from transformers import PreTrainedModel\n",
    "from MedViT.MedViT import MedViT, MedViT_large\n",
    "\n",
    "# Define configuration\n",
    "from transformers import PretrainedConfig\n",
    "from typing import List\n",
    "\n",
    "\n",
    "class MedViTConfig(PretrainedConfig):\n",
    "    model_type = \"medvit\"\n",
    "\n",
    "    def __init__(\n",
    "        self,\n",
    "        stem_chs: List[int] = [64, 32, 64],\n",
    "        depths: List[int] = [3, 4, 30, 3],\n",
    "        path_dropout: float = 0.2,\n",
    "        attn_drop: int = 0,\n",
    "        drop: int = 0,\n",
    "        num_classes: int = 5,\n",
    "        strides: List[int] = [1, 2, 2, 2],\n",
    "        sr_ratios: List[int] = [8, 4, 2, 1],\n",
    "        head_dim: int = 32,\n",
    "        mix_block_ratio: float = 0.75,\n",
    "        use_checkpoint: bool = False,\n",
    "        pretrained: bool = False,\n",
    "        pretrained_cfg: str = None,\n",
    "        **kwargs\n",
    "    ):\n",
    "        self.stem_chs = stem_chs\n",
    "        self.depths = depths\n",
    "        self.path_dropout = path_dropout\n",
    "        self.attn_drop = attn_drop\n",
    "        self.drop = drop\n",
    "        self.num_classes = num_classes\n",
    "        self.strides = strides\n",
    "        self.sr_ratios = sr_ratios\n",
    "        self.head_dim = head_dim\n",
    "        self.mix_block_ratio = mix_block_ratio\n",
    "        self.use_checkpoint = use_checkpoint\n",
    "        self.pretrained = pretrained,\n",
    "        self.pretrained_cfg = pretrained_cfg\n",
    "        super().__init__(**kwargs)\n",
    "\n",
    "class MedViTClassification(PreTrainedModel):\n",
    "    config_class = MedViTConfig\n",
    "\n",
    "    def __init__(self, config, pretrained=False):\n",
    "        super().__init__(config)\n",
    "\n",
    "        if pretrained is False:\n",
    "          print('Initialized with random weights:')\n",
    "          self.model = MedViT(\n",
    "          stem_chs = config.stem_chs,\n",
    "          depths = config.depths,\n",
    "          path_dropout = config.path_dropout,\n",
    "          attn_drop = config.attn_drop,\n",
    "          drop = config.drop,\n",
    "          num_classes = config.num_classes,\n",
    "          strides = config.strides,\n",
    "          sr_ratios = config.sr_ratios,\n",
    "          head_dim = config.head_dim,\n",
    "          mix_block_ratio = config.mix_block_ratio,\n",
    "          use_checkpoint = config.use_checkpoint)\n",
    "        else:\n",
    "          print('Initialized with pretrained weights:')\n",
    "          self.model = MedViT_large(use_checkpoint = config.use_checkpoint)\n",
    "          # self.state_dict = torch.load(config.pretrained_cfg, weights_only=True) #, weights_only=True\n",
    "        #   self.model.load_state_dict(torch.load(config.pretrained_cfg, weights_only=True)['model'])\n",
    "          # self.model.load_state_dict(torch.load('MedViT_large_im1k.pth'))\n",
    "          self.model.proj_head = nn.Linear(1024, 5)        \n",
    "\n",
    "    def forward(self, pixel_values, labels=None):\n",
    "        logits = self.model(pixel_values)\n",
    "        if labels is not None:\n",
    "            loss = torch.nn.functional.cross_entropy(logits, labels)\n",
    "            return {\"loss\": loss, \"logits\": logits}\n",
    "        return {\"logits\": logits}\n",
    "\n",
    "model = MedViTClassification.from_pretrained(f'../saved_models/{pretrained_model_name}')"
   ]
  },
  {
   "cell_type": "code",
   "execution_count": 26,
   "id": "c2b9641b-22ea-45b1-af78-57ede4e0c731",
   "metadata": {},
   "outputs": [],
   "source": [
    "from transformers import TrainingArguments\n",
    "from transformers import Trainer\n",
    "\n",
    "training_args = TrainingArguments(\n",
    "    output_dir=\"./MedViT-base_test\",\n",
    "    evaluation_strategy=\"steps\",\n",
    "    logging_steps=50,\n",
    "\n",
    "    save_steps=50,\n",
    "    eval_steps=50,\n",
    "    save_total_limit=3,\n",
    "    \n",
    "    remove_unused_columns=False,\n",
    "    dataloader_num_workers = 16,\n",
    "    \n",
    "    learning_rate=1e-5,\n",
    "    per_device_train_batch_size=4,\n",
    "    gradient_accumulation_steps=4,\n",
    "    per_device_eval_batch_size=4,\n",
    "    num_train_epochs=2,\n",
    "    warmup_ratio=0.02,\n",
    "    \n",
    "    metric_for_best_model=\"kappa\", \n",
    "    greater_is_better = True,\n",
    "    load_best_model_at_end=True,\n",
    "    \n",
    "    push_to_hub=False\n",
    ")\n",
    "\n",
    "trainer = Trainer(\n",
    "    model=model,\n",
    "    args=training_args,\n",
    "    data_collator=collate_fn,\n",
    "    compute_metrics=compute_metrics,\n",
    "    train_dataset=prepared_ds_test,\n",
    "    eval_dataset=prepared_ds_test\n",
    ")"
   ]
  },
  {
   "cell_type": "code",
   "execution_count": 27,
   "id": "88b1ddc9",
   "metadata": {},
   "outputs": [],
   "source": [
    "sample_ids = np.random.choice(len(prepared_ds_test), size=100, replace=False)\n",
    "inv_sample_ids = np.setdiff1d(np.arange(len(prepared_ds_test)), sample_ids)\n",
    "val_ds = prepared_ds_test.select(sample_ids)\n",
    "test_ds = prepared_ds_test.select(inv_sample_ids)"
   ]
  },
  {
   "cell_type": "code",
   "execution_count": 28,
   "id": "846c9c14-ffbe-4ff9-b7c4-96dd7419bfb6",
   "metadata": {},
   "outputs": [
    {
     "data": {
      "application/vnd.jupyter.widget-view+json": {
       "model_id": "9a2290008651481383587f9a465d6e11",
       "version_major": 2,
       "version_minor": 0
      },
      "text/plain": [
       "  0%|          | 0/25 [00:00<?, ?it/s]"
      ]
     },
     "metadata": {},
     "output_type": "display_data"
    },
    {
     "name": "stdout",
     "output_type": "stream",
     "text": [
      "Normalized confusion matrix\n"
     ]
    },
    {
     "data": {
      "image/png": "[encoded data removed]",
      "text/plain": [
       "<Figure size 640x480 with 2 Axes>"
      ]
     },
     "metadata": {},
     "output_type": "display_data"
    },
    {
     "name": "stdout",
     "output_type": "stream",
     "text": [
      "***** eval metrics *****\n",
      "  eval_accuracy           =       0.71\n",
      "  eval_f1                 =     0.7378\n",
      "  eval_kappa              =     0.7423\n",
      "  eval_loss               =      0.995\n",
      "  eval_runtime            = 0:00:06.15\n",
      "  eval_samples_per_second =     16.252\n",
      "  eval_steps_per_second   =      4.063\n"
     ]
    }
   ],
   "source": [
    "metrics = trainer.evaluate(val_ds)\n",
    "trainer.log_metrics(\"eval\", metrics)"
   ]
  },
  {
   "cell_type": "code",
   "execution_count": 32,
   "id": "2ff474f8",
   "metadata": {},
   "outputs": [],
   "source": [
    "# Serialize data into file:\n",
    "json.dump(metrics, open( f'../results/{pretrained_model_name}.json', 'w' ) )"
   ]
  },
  {
   "cell_type": "code",
   "execution_count": 36,
   "id": "0dc3d857-8ed0-41fb-a5ea-fd08809de3cc",
   "metadata": {},
   "outputs": [
    {
     "name": "stdout",
     "output_type": "stream",
     "text": [
      "[[4679  348  135   10   31]\n",
      " [ 188  260   44    1    6]\n",
      " [ 167  188  531   90   41]\n",
      " [   6    5   46   73   25]\n",
      " [   4    1   26   11  110]]\n",
      "***** eval metrics *****\n",
      "  eval_accuracy           =     0.8046\n",
      "  eval_f1                 =     0.8126\n",
      "  eval_kappa              =     0.7629\n",
      "  eval_loss               =     0.6082\n",
      "  eval_runtime            = 0:04:46.89\n",
      "  eval_samples_per_second =      24.49\n",
      "  eval_steps_per_second   =      6.124\n"
     ]
    }
   ],
   "source": [
    "metrics = trainer.evaluate(prepared_ds_test)\n",
    "trainer.save_metrics(\"eval\", metrics)\n",
    "trainer.log_metrics(\"eval\", metrics)"
   ]
  }
 ],
 "metadata": {
  "kernelspec": {
   "display_name": "Python 3 (ipykernel)",
   "language": "python",
   "name": "python3"
  },
  "language_info": {
   "codemirror_mode": {
    "name": "ipython",
    "version": 3
   },
   "file_extension": ".py",
   "mimetype": "text/x-python",
   "name": "python",
   "nbconvert_exporter": "python",
   "pygments_lexer": "ipython3",
   "version": "3.9.19"
  }
 },
 "nbformat": 4,
 "nbformat_minor": 5
}
