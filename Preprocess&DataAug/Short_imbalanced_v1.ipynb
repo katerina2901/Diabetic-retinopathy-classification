{
 "cells": [
  {
   "cell_type": "code",
   "execution_count": 26,
   "metadata": {},
   "outputs": [],
   "source": [
    "from tqdm import tqdm\n",
    "import torch\n",
    "import gc\n",
    "import numpy as np\n",
    "from datasets import load_dataset\n",
    "from torchvision import transforms as T\n",
    "from imblearn.over_sampling import SMOTE\n",
    "from torch.utils.data import DataLoader, Dataset"
   ]
  },
  {
   "cell_type": "code",
   "execution_count": 2,
   "metadata": {},
   "outputs": [],
   "source": [
    "# dataset_folder_name = r\"D:\\Study\\M.E. IoTWT\\5. Term 4\\Deep Learning\\Project\\short_imbalanced_dataset\"\n",
    "dataset_folder_name = 'mnt/local/data/kalexu97/short_imbalanced_dataset'\n",
    "dataset = load_dataset(\"imagefolder\", data_dir = dataset_folder_name) #, split = ['train[:75%]', 'train[75%:]'])"
   ]
  },
  {
   "cell_type": "code",
   "execution_count": 3,
   "metadata": {},
   "outputs": [
    {
     "data": {
      "text/plain": [
       "Dataset({\n",
       "    features: ['image', 'label'],\n",
       "    num_rows: 1816\n",
       "})"
      ]
     },
     "execution_count": 3,
     "metadata": {},
     "output_type": "execute_result"
    }
   ],
   "source": [
    "dataset['train']"
   ]
  },
  {
   "cell_type": "code",
   "execution_count": 4,
   "metadata": {},
   "outputs": [],
   "source": [
    "initial_transform = T.Compose([\n",
    "    T.Resize(512), \n",
    "    T.RandomHorizontalFlip(p = 0.5),\n",
    "    T.RandomVerticalFlip(p = 0.5), \n",
    "    T.CenterCrop(size = (480, 480)), \n",
    "    T.ColorJitter(brightness = 0.2, contrast = 0.2, saturation = 0.2, hue = 0.1),\n",
    "])"
   ]
  },
  {
   "cell_type": "code",
   "execution_count": 5,
   "metadata": {},
   "outputs": [],
   "source": [
    "def func_transform(examples):\n",
    "    examples['pixel_values'] = [initial_transform(image.convert('L')) for image in examples['image']]\n",
    "    del examples['image']\n",
    "    return examples"
   ]
  },
  {
   "cell_type": "code",
   "execution_count": 6,
   "metadata": {},
   "outputs": [],
   "source": [
    "resized_data = dataset.with_transform(func_transform)"
   ]
  },
  {
   "cell_type": "code",
   "execution_count": 7,
   "metadata": {},
   "outputs": [
    {
     "name": "stdout",
     "output_type": "stream",
     "text": [
      "[[4 5 6 ... 4 5 4]\n",
      " [5 5 6 ... 6 6 5]\n",
      " [6 7 7 ... 6 6 5]\n",
      " ...\n",
      " [6 8 8 ... 4 4 3]\n",
      " [6 7 7 ... 3 4 3]\n",
      " [5 7 7 ... 2 2 2]]\n"
     ]
    }
   ],
   "source": [
    "for sample in resized_data['train']:\n",
    "    print(np.array(sample['pixel_values']))\n",
    "    break"
   ]
  },
  {
   "cell_type": "code",
   "execution_count": 8,
   "metadata": {},
   "outputs": [],
   "source": [
    "labels = dataset['train'].features['label'].names\n",
    "label2id, id2label = dict(), dict()\n",
    "for i, label in enumerate(labels):\n",
    "    label2id[label] = str(i)\n",
    "    id2label[str(i)] = label"
   ]
  },
  {
   "cell_type": "code",
   "execution_count": 13,
   "metadata": {},
   "outputs": [],
   "source": [
    "def return_image_label(dataset):\n",
    "    images_majority = []\n",
    "    labels_majority = []\n",
    "    images_minority = []\n",
    "    labels_minority = []\n",
    "    for sample in tqdm(dataset):\n",
    "        image, label = sample['pixel_values'], sample['label']\n",
    "        if label == 0:\n",
    "            images_majority.append(np.array(image))\n",
    "            labels_majority.append(label)\n",
    "        else:\n",
    "            images_minority.append(np.array(image))\n",
    "            labels_minority.append(label)\n",
    "        del image\n",
    "        del label\n",
    "    gc.collect()\n",
    "    return images_majority, images_minority, labels_majority, labels_minority\n",
    "\n",
    "def samp_strategy(y_majority, y_minority):\n",
    "    up_sampling_class_size = int(len(y_majority) * 0.4)\n",
    "    minority_sampling_strategy = {class_label: up_sampling_class_size for class_label in set(y_minority)}\n",
    "    majority_sampling_strategy = 0.7\n",
    "    return minority_sampling_strategy, majority_sampling_strategy"
   ]
  },
  {
   "cell_type": "code",
   "execution_count": 35,
   "metadata": {},
   "outputs": [],
   "source": [
    "# Define transformations\n",
    "final_transform = T.Compose([\n",
    "    T.ToTensor(),\n",
    "    T.Normalize(mean = 0.5, std = 0.5)\n",
    "])\n",
    "\n",
    "test_transform = T.Compose([\n",
    "    T.ToTensor(),\n",
    "    T.Normalize(mean = 0.5, std = 0.5)\n",
    "])"
   ]
  },
  {
   "cell_type": "code",
   "execution_count": 15,
   "metadata": {},
   "outputs": [],
   "source": [
    "class MyDataset(Dataset):\n",
    "    def __init__(self, dataset, transform = None, oversampling = False):\n",
    "        self.dataset = dataset\n",
    "        self.transform = transform\n",
    "        self.oversampling = oversampling\n",
    "\n",
    "        self.total_len = len(dataset)\n",
    "\n",
    "        if oversampling:\n",
    "            self.oversample_dataset()\n",
    "\n",
    "    def __len__(self):\n",
    "        return self.total_len\n",
    "    \n",
    "    def __iter__(self):\n",
    "        for sample in self.dataset:\n",
    "            image, label = sample['pixel_values'], sample['label']\n",
    "            yield image, label\n",
    "\n",
    "    def __getitem__(self, idx):\n",
    "        gc.collect()\n",
    "\n",
    "        sample = self.dataset[idx]\n",
    "        image = sample['pixel_values']\n",
    "        label = sample['label']\n",
    "            \n",
    "        return image, label\n",
    "\n",
    "    def oversample_dataset(self):\n",
    "        X_majoirty, X_minority, y_majority, y_minority = return_image_label(self.dataset)\n",
    "        gc.collect()\n",
    "\n",
    "        X_majority_array = np.stack(X_majoirty)\n",
    "        X_minority_array = np.stack(X_minority)\n",
    "        X_majority_reshaped = X_majority_array.reshape(X_majority_array.shape[0], -1)\n",
    "        X_minority_reshaped = X_minority_array.reshape(X_minority_array.shape[0], -1)\n",
    "\n",
    "        gc.collect()\n",
    "        minority_strategy, majority_strategy = samp_strategy(y_majority, y_minority)\n",
    "        smote = SMOTE(sampling_strategy = minority_strategy)\n",
    "        X_minority_resampled, y_minority_resampled = smote.fit_resample(X_minority_reshaped, y_minority)\n",
    "        X_resampled = np.concatenate((X_minority_resampled, X_majority_reshaped))\n",
    "        y_resampled = np.concatenate((y_minority_resampled, y_majority))\n",
    "        \n",
    "        X_resampled = X_resampled.reshape(X_resampled.shape[0], 480, 480)\n",
    "        gc.collect()\n",
    "        if self.transform:\n",
    "            X_augmented = [self.transform(image) for image in X_resampled]\n",
    "            self.dataset = [{'pixel_values' : X_augmented[i], 'label' : y_resampled[i]} for i in range(len(X_augmented))]\n",
    "        gc.collect()"
   ]
  },
  {
   "cell_type": "code",
   "execution_count": 16,
   "metadata": {},
   "outputs": [
    {
     "name": "stderr",
     "output_type": "stream",
     "text": [
      "100%|██████████| 1816/1816 [02:44<00:00, 11.02it/s]\n"
     ]
    }
   ],
   "source": [
    "oversampled_dataset = MyDataset(resized_data['train'], transform = final_transform, oversampling = True)"
   ]
  },
  {
   "cell_type": "code",
   "execution_count": null,
   "metadata": {},
   "outputs": [],
   "source": [
    "for sample in dataset['test']:\n",
    "    sample['image'] = test_transform(sample['image'])"
   ]
  },
  {
   "cell_type": "code",
   "execution_count": 9,
   "metadata": {},
   "outputs": [],
   "source": [
    "# train_loader = DataLoader(oversampled_dataset, batch_size = 32, shuffle = True, num_workers = 2)\n",
    "# test_loader = DataLoader(test_dataset, batch_size = 32, num_workers = 2)"
   ]
  }
 ],
 "metadata": {
  "kernelspec": {
   "display_name": "Python 3",
   "language": "python",
   "name": "python3"
  },
  "language_info": {
   "codemirror_mode": {
    "name": "ipython",
    "version": 3
   },
   "file_extension": ".py",
   "mimetype": "text/x-python",
   "name": "python",
   "nbconvert_exporter": "python",
   "pygments_lexer": "ipython3",
   "version": "3.12.2"
  }
 },
 "nbformat": 4,
 "nbformat_minor": 2
}
